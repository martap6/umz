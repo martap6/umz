{
 "cells": [
  {
   "cell_type": "markdown",
   "metadata": {},
   "source": [
    "# My example of the Naive Bayes Algorithm in text processing"
   ]
  },
  {
   "cell_type": "markdown",
   "metadata": {},
   "source": [
    "## Klasyfikacja tekstu do trzech grup: romance, humor, goverment. "
   ]
  },
  {
   "cell_type": "markdown",
   "metadata": {},
   "source": [
    "### Korzystam z nltk oraz tetblob"
   ]
  },
  {
   "cell_type": "code",
   "execution_count": 1,
   "metadata": {
    "collapsed": false
   },
   "outputs": [],
   "source": [
    "from nltk.corpus import brown\n",
    "from textblob.classifiers import NaiveBayesClassifier\n",
    "import random\n",
    "random.seed(1)\n",
    "\n",
    "train = [\n",
    "    ('The government must do everything it can to prevent civil war.', 'government'),\n",
    "    ('The ministers spoke to each other in relation to the extremely alarming political situation.', 'government'),\n",
    "    ('There is a deep political crisis', 'government'),\n",
    "    ('She focuses on collaboration and the actual implementation of measures. ', 'government'),\n",
    "    (\"Many senators voted this week to block Obama administration coal regulations.\", 'government'),\n",
    "    ('You know I love you, I always will ', 'romance'),\n",
    "    ('The world is so funny', 'humor'),\n",
    "    (\"Are you kidding me? HA HA HA\", 'humor'),\n",
    "    ('I love your smile!', 'romance'),\n",
    "    ('I will need someone beside me to love that person.', 'romance'),\n",
    "    ('I love you so much','romance')\n",
    "]\n",
    "test = [\n",
    "    ('The menisters were angry.','government'),\n",
    "    ('I love you so muh my durling', 'romance'),\n",
    "    (\"You are so funny person.\", 'humor'),\n",
    "    (\"President voted against!\", 'government'),\n",
    "    ('Senate passed two resolutions.', 'government'),\n",
    "    (\"LOL Are you kidding me?\", 'humor')\n",
    "]\n",
    "\n",
    "cl = NaiveBayesClassifier(train)"
   ]
  },
  {
   "cell_type": "markdown",
   "metadata": {},
   "source": [
    "## Pierwsza wersja klasyfikatora, sprawdzenie przyporzadkowania."
   ]
  },
  {
   "cell_type": "code",
   "execution_count": 2,
   "metadata": {
    "collapsed": false
   },
   "outputs": [
    {
     "data": {
      "text/plain": [
       "'romance'"
      ]
     },
     "execution_count": 2,
     "metadata": {},
     "output_type": "execute_result"
    }
   ],
   "source": [
    "prob_dist = cl.prob_classify(\"I love this person\")\n",
    "prob_dist.max()"
   ]
  },
  {
   "cell_type": "markdown",
   "metadata": {},
   "source": [
    "## Uczenie klasyfikatora na większej liczbie dokumentów."
   ]
  },
  {
   "cell_type": "code",
   "execution_count": 3,
   "metadata": {
    "collapsed": false
   },
   "outputs": [
    {
     "name": "stdout",
     "output_type": "stream",
     "text": [
      "Accuracy: 0.5\n"
     ]
    }
   ],
   "source": [
    "documents = [(list(brown.words(fileid)), category)\n",
    "              for category in ['romance','humor','government']\n",
    "              for fileid in brown.fileids(category)]\n",
    "random.shuffle(documents)\n",
    "new_train, new_test = documents[0:100], documents[101:200]\n",
    "\n",
    "# Aktualizacja kalsyfikatora zgodnie z wprowadzonymi powyzej danymi\n",
    "cl.update(new_train)\n",
    "\n",
    "# Obliczanie acurancy\n",
    "accuracy = cl.accuracy(test + new_test)\n",
    "print(\"Accuracy: {0}\".format(accuracy))"
   ]
  },
  {
   "cell_type": "markdown",
   "metadata": {},
   "source": [
    "### Klasyfikacja nowego dokumentu (tekstu)"
   ]
  },
  {
   "cell_type": "code",
   "execution_count": 4,
   "metadata": {
    "collapsed": false
   },
   "outputs": [
    {
     "data": {
      "text/plain": [
       "'government'"
      ]
     },
     "execution_count": 4,
     "metadata": {},
     "output_type": "execute_result"
    }
   ],
   "source": [
    "cl.classify(\"The president decide to vote: No\")"
   ]
  }
 ],
 "metadata": {
  "kernelspec": {
   "display_name": "Python 2",
   "language": "python",
   "name": "python2"
  },
  "language_info": {
   "codemirror_mode": {
    "name": "ipython",
    "version": 2
   },
   "file_extension": ".py",
   "mimetype": "text/x-python",
   "name": "python",
   "nbconvert_exporter": "python",
   "pygments_lexer": "ipython2",
   "version": "2.7.6"
  }
 },
 "nbformat": 4,
 "nbformat_minor": 0
}
